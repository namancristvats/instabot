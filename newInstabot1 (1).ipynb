{
 "cells": [
  {
   "cell_type": "code",
   "execution_count": 1,
   "metadata": {},
   "outputs": [
    {
     "name": "stdout",
     "output_type": "stream",
     "text": [
      "username\n",
      "\n"
     ]
    }
   ],
   "source": [
    "from selenium import webdriver\n",
    "import time\n",
    "from selenium.webdriver.common.by import By\n",
    "from selenium.webdriver.support.ui import WebDriverWait\n",
    "from selenium.webdriver.support import expected_conditions as EC\n",
    "print(\"username\")\n",
    "global username\n",
    "username=input()"
   ]
  },
  {
   "cell_type": "code",
   "execution_count": 2,
   "metadata": {},
   "outputs": [
    {
     "name": "stdout",
     "output_type": "stream",
     "text": [
      "enter password\n",
      "\n"
     ]
    }
   ],
   "source": [
    "print(\"enter password\")\n",
    "global password\n",
    "password=input()\n"
   ]
  },
  {
   "cell_type": "code",
   "execution_count": null,
   "metadata": {},
   "outputs": [],
   "source": [
    "print(\"enter url\")\n",
    "global url\n",
    "url=input()"
   ]
  },
  {
   "cell_type": "code",
   "execution_count": null,
   "metadata": {},
   "outputs": [],
   "source": [
    "def path():\n",
    "    global chrome\n",
    "    print(\"enter driver path\")\n",
    "    exe_path=\"C:\\Windows\\chromedriver\"\n",
    "    chrome=webdriver.Chrome(executable_path=exe_path)"
   ]
  },
  {
   "cell_type": "code",
   "execution_count": null,
   "metadata": {},
   "outputs": [],
   "source": [
    "def url_name(url):\n",
    "    chrome.get(url)\n",
    "    time.sleep(4)"
   ]
  },
  {
   "cell_type": "code",
   "execution_count": null,
   "metadata": {},
   "outputs": [],
   "source": [
    "time.sleep(10)\n",
    "def login(username,your_password):\n",
    "    log_btn=chrome.find_element_by_xpath('/html/body/div/section/main/article/div/div/p/a')\n",
    "    time.sleep(4)\n",
    "    log_btn.click()\n",
    "    time.sleep(4)\n",
    "    usern=chrome.find_element_by_name(\"username\")\n",
    "    usern.send_keys(username)\n",
    "    passw=chrome.find_element_by_name(\"password\")\n",
    "    passw.send_keys(your_password)\n",
    "    passw.submit()\n",
    "    time.sleep(4)\n",
    "    notnow=chrome.find_element_by_xpath('/html/body/div[4]/div/div/div[3]/button[2]')\n",
    "    time.sleep(2)\n",
    "    notnow.click()\n",
    "    time.sleep(4)\n",
    "    search=chrome.find_element_by_xpath('/html/body/div[1]/section/nav/div[2]/div/div/div[2]/input')\n",
    "    search.clear()\n",
    "    search.send_keys('So Delhi')\n",
    "    ##tap=chrome.find_element_by_xpath('/html/body/div[1]/section/nav/div[2]/div/div/div[2]/div[2]/div[2]/div/a[1]/div/div[2]/div/span')\n",
    "    chrome.get('https://www.instagram.com/sodelhi/')\n",
    "    time.sleep(4)\n",
    "    follow=chrome.find_element_by_xpath('/html/body/div[1]/section/main/div/header/section/div[1]/div[1]/span/span[1]/button')\n",
    "    time.sleep(2)\n",
    "    follow.click()\n",
    "    print(\"followed\")\n",
    "    time.sleep(4)\n",
    "    unfollow=chrome.find_element_by_xpath('/html/body/div[4]/div/div/div[3]/button[1]')\n",
    "    time.sleep(2)\n",
    "    unfollow.click()\n",
    "    print(\"unfollowed\")\n",
    "    chrome.get('https://www.instagram.com/dilsefoodie/')\n",
    "    "
   ]
  },
  {
   "cell_type": "code",
   "execution_count": null,
   "metadata": {},
   "outputs": [],
   "source": [
    "def first_picture():\n",
    "    pic = chrome.find_element_by_class_name(\"_9AhH0\")    \n",
    "    pic.click() "
   ]
  },
  {
   "cell_type": "code",
   "execution_count": null,
   "metadata": {},
   "outputs": [],
   "source": [
    "def like_pic():\n",
    "    time.sleep(4)\n",
    "    like = chrome.find_element_by_xpath('/html/body/div[4]/div[2]/div/article/div[2]/section[1]/span[1]/button')\n",
    "    time.sleep(2)\n",
    "    ##like pics\n",
    "    like.click()"
   ]
  },
  {
   "cell_type": "code",
   "execution_count": null,
   "metadata": {},
   "outputs": [],
   "source": [
    "def next_picture():\n",
    "    time.sleep(2)\n",
    "    nex = chrome.find_element_by_class_name(\"HBoOv\")   \n",
    "    time.sleep(1) \n",
    "    return nex"
   ]
  },
  {
   "cell_type": "code",
   "execution_count": null,
   "metadata": {},
   "outputs": [],
   "source": [
    "def continue_liking(): \n",
    "    while(True): \n",
    "        next_el = next_picture() \n",
    "\n",
    "        # if next button is there then \n",
    "        if next_el != False: \n",
    "\n",
    "            # click the next button \n",
    "            next_el.click() \n",
    "            time.sleep(2) \n",
    "\n",
    "            # like the picture \n",
    "            like_pic() \n",
    "            time.sleep(2) \n",
    "        else : \n",
    "            print(\"not found\") \n",
    "            break\n"
   ]
  },
  {
   "cell_type": "code",
   "execution_count": null,
   "metadata": {},
   "outputs": [],
   "source": [
    "def scrape_followers():\n",
    "        users=[]\n",
    "        chrome.get(\"https://www.instagram.com/foodtalkindia/\")\n",
    "     # Click the 'Follower(s)' link\n",
    "        chrome.find_element_by_partial_link_text(\"follower\").click()\n",
    "        xpath = '/html/body/div[4]/div/div[2]/ul/div'\n",
    "        follower=chrome.find_element_by_xpath(xpath)\n",
    "        for i in follower:\n",
    "            users.append(i.get_attribute('title'))\n",
    "            print(users) \n",
    "    "
   ]
  },
  {
   "cell_type": "code",
   "execution_count": null,
   "metadata": {},
   "outputs": [],
   "source": [
    "def codingninjas():\n",
    "    chrome.get('https://www.instagram.com/coding.ninjas/')\n",
    "    story=chrome.find_element_by_xpath('/html/body/div[1]/section/main/div/header/div/div/span/img')\n",
    "    story.click()\n",
    "    "
   ]
  },
  {
   "cell_type": "code",
   "execution_count": null,
   "metadata": {},
   "outputs": [],
   "source": [
    "path() \n",
    "time.sleep(1) \n",
    "  \n",
    "url_name(url) \n",
    "  \n",
    "login(username, password)\n",
    "codingninjas()\n",
    "scrape_followers()\n",
    "for i in range(0,30):\n",
    "    first_picture() \n",
    "    like_pic() ####like pic \n",
    "    like_pic()###to unlike pic\n",
    "    continue_liking() \n",
    "   "
   ]
  },
  {
   "cell_type": "code",
   "execution_count": null,
   "metadata": {},
   "outputs": [],
   "source": []
  },
  {
   "cell_type": "code",
   "execution_count": null,
   "metadata": {},
   "outputs": [],
   "source": []
  },
  {
   "cell_type": "code",
   "execution_count": null,
   "metadata": {},
   "outputs": [],
   "source": []
  },
  {
   "cell_type": "code",
   "execution_count": null,
   "metadata": {},
   "outputs": [],
   "source": []
  }
 ],
 "metadata": {
  "kernelspec": {
   "display_name": "Python 3",
   "language": "python",
   "name": "python3"
  },
  "language_info": {
   "codemirror_mode": {
    "name": "ipython",
    "version": 3
   },
   "file_extension": ".py",
   "mimetype": "text/x-python",
   "name": "python",
   "nbconvert_exporter": "python",
   "pygments_lexer": "ipython3",
   "version": "3.7.4"
  }
 },
 "nbformat": 4,
 "nbformat_minor": 2
}
